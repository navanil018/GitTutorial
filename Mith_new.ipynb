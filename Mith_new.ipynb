{
  "nbformat": 4,
  "nbformat_minor": 0,
  "metadata": {
    "colab": {
      "name": "Mith_new.ipynb",
      "version": "0.3.2",
      "provenance": [],
      "collapsed_sections": [],
      "include_colab_link": true
    },
    "kernelspec": {
      "name": "python3",
      "display_name": "Python 3"
    }
  },
  "cells": [
    {
      "cell_type": "markdown",
      "metadata": {
        "id": "view-in-github",
        "colab_type": "text"
      },
      "source": [
        "<a href=\"https://colab.research.google.com/github/navanil018/Kaggle/blob/master/Mith_new.ipynb\" target=\"_parent\"><img src=\"https://colab.research.google.com/assets/colab-badge.svg\" alt=\"Open In Colab\"/></a>"
      ]
    },
    {
      "metadata": {
        "id": "iD0Mvt6a4-Zg",
        "colab_type": "code",
        "colab": {}
      },
      "cell_type": "code",
      "source": [
        "#2. Based on the domain knowledge I think Age, Chestpainloc,painexertion,chestpaintype,IsSmoker,NumCigs,SmokingPeriod,thalassemia,rcaaprox and rcadistance will be responsible.\n",
        "\n",
        "import pandas as pd\n",
        "import numpy\n",
        "\n",
        "from sklearn import preprocessing, metrics#, cross_validation\n",
        "#from sklearn.cross_validation import train_test_split \n",
        "from sklearn.preprocessing import LabelEncoder\n",
        "from sklearn.preprocessing import MinMaxScaler\n",
        "\n",
        "%matplotlib inline\n",
        "import numpy as np\n",
        "import pandas as pd\n",
        "import graphviz\n",
        "import matplotlib.pyplot as plt\n",
        "import seaborn as sns\n",
        "\n",
        "from sklearn.tree import DecisionTreeClassifier, export_graphviz,DecisionTreeRegressor\n",
        "from sklearn.metrics import accuracy_score,classification_report, recall_score, precision_score,confusion_matrix,mean_absolute_error,mean_squared_error\n",
        "from sklearn.ensemble import RandomForestClassifier\n",
        "from xgboost import XGBClassifier\n",
        "from sklearn.ensemble import GradientBoostingClassifier\n",
        "from sklearn.ensemble import AdaBoostClassifier\n",
        "\n",
        "from sklearn.cluster import KMeans"
      ],
      "execution_count": 0,
      "outputs": []
    },
    {
      "metadata": {
        "id": "nWdaeGao5hjZ",
        "colab_type": "code",
        "colab": {
          "base_uri": "https://localhost:8080/",
          "height": 265
        },
        "outputId": "31344409-8e3d-47df-eba0-b8dab6917261"
      },
      "cell_type": "code",
      "source": [
        "#Load the Drive helper and mount\n",
        "from google.colab import drive\n",
        "from sklearn.model_selection import train_test_split\n",
        "\n",
        "#This will prompt for authorization.\n",
        "#drive.mount('/content/drive')\n",
        "\n",
        "!ls \"/content/drive\"\n",
        "loc = \"/content/drive/My Drive/Kaggle/Heart_Disease_Severity/Train.csv\"\n",
        "loc_test = \"/content/drive/My Drive/Kaggle/Heart_Disease_Severity/Test.csv\"\n",
        "\n",
        "train_data = pd.read_csv(loc)\n",
        "train_data.head()\n",
        "\n",
        "test_data = pd.read_csv(loc_test)\n",
        "test_data.head()"
      ],
      "execution_count": 5,
      "outputs": [
        {
          "output_type": "stream",
          "text": [
            "'My Drive'\n"
          ],
          "name": "stdout"
        },
        {
          "output_type": "execute_result",
          "data": {
            "text/html": [
              "<div>\n",
              "<style scoped>\n",
              "    .dataframe tbody tr th:only-of-type {\n",
              "        vertical-align: middle;\n",
              "    }\n",
              "\n",
              "    .dataframe tbody tr th {\n",
              "        vertical-align: top;\n",
              "    }\n",
              "\n",
              "    .dataframe thead th {\n",
              "        text-align: right;\n",
              "    }\n",
              "</style>\n",
              "<table border=\"1\" class=\"dataframe\">\n",
              "  <thead>\n",
              "    <tr style=\"text-align: right;\">\n",
              "      <th></th>\n",
              "      <th>id</th>\n",
              "      <th>age</th>\n",
              "      <th>gender</th>\n",
              "      <th>chestpainloc</th>\n",
              "      <th>painexertion</th>\n",
              "      <th>reliefbyrest</th>\n",
              "      <th>chestpaintype</th>\n",
              "      <th>restingBP</th>\n",
              "      <th>serumcholesterol</th>\n",
              "      <th>IsSmoker</th>\n",
              "      <th>...</th>\n",
              "      <th>ladproximation</th>\n",
              "      <th>laddistance</th>\n",
              "      <th>cxmain</th>\n",
              "      <th>ramus</th>\n",
              "      <th>obtuseMarginal1</th>\n",
              "      <th>obtuseMarginal2</th>\n",
              "      <th>rcaproximation</th>\n",
              "      <th>rcadistance</th>\n",
              "      <th>nameOfPatient</th>\n",
              "      <th>Location</th>\n",
              "    </tr>\n",
              "  </thead>\n",
              "  <tbody>\n",
              "    <tr>\n",
              "      <th>0</th>\n",
              "      <td>4043</td>\n",
              "      <td>71</td>\n",
              "      <td>0</td>\n",
              "      <td>1</td>\n",
              "      <td>1</td>\n",
              "      <td>1</td>\n",
              "      <td>2</td>\n",
              "      <td>160</td>\n",
              "      <td>302</td>\n",
              "      <td>1</td>\n",
              "      <td>...</td>\n",
              "      <td>1</td>\n",
              "      <td>1</td>\n",
              "      <td>1</td>\n",
              "      <td>-9</td>\n",
              "      <td>1</td>\n",
              "      <td>1</td>\n",
              "      <td>1</td>\n",
              "      <td>1</td>\n",
              "      <td>name</td>\n",
              "      <td>Cleveland</td>\n",
              "    </tr>\n",
              "    <tr>\n",
              "      <th>1</th>\n",
              "      <td>4159</td>\n",
              "      <td>60</td>\n",
              "      <td>1</td>\n",
              "      <td>1</td>\n",
              "      <td>1</td>\n",
              "      <td>1</td>\n",
              "      <td>4</td>\n",
              "      <td>140</td>\n",
              "      <td>293</td>\n",
              "      <td>-9</td>\n",
              "      <td>...</td>\n",
              "      <td>1</td>\n",
              "      <td>2</td>\n",
              "      <td>1</td>\n",
              "      <td>1</td>\n",
              "      <td>1</td>\n",
              "      <td>1</td>\n",
              "      <td>2</td>\n",
              "      <td>1</td>\n",
              "      <td>name</td>\n",
              "      <td>Cleveland</td>\n",
              "    </tr>\n",
              "    <tr>\n",
              "      <th>2</th>\n",
              "      <td>5065</td>\n",
              "      <td>53</td>\n",
              "      <td>1</td>\n",
              "      <td>1</td>\n",
              "      <td>1</td>\n",
              "      <td>0</td>\n",
              "      <td>2</td>\n",
              "      <td>120</td>\n",
              "      <td>0</td>\n",
              "      <td>1</td>\n",
              "      <td>...</td>\n",
              "      <td>2</td>\n",
              "      <td>2</td>\n",
              "      <td>1</td>\n",
              "      <td>2</td>\n",
              "      <td>2</td>\n",
              "      <td>1</td>\n",
              "      <td>2</td>\n",
              "      <td>2</td>\n",
              "      <td>name</td>\n",
              "      <td>Switzerland</td>\n",
              "    </tr>\n",
              "    <tr>\n",
              "      <th>3</th>\n",
              "      <td>2003</td>\n",
              "      <td>37</td>\n",
              "      <td>1</td>\n",
              "      <td>1</td>\n",
              "      <td>0</td>\n",
              "      <td>0</td>\n",
              "      <td>2</td>\n",
              "      <td>130</td>\n",
              "      <td>283</td>\n",
              "      <td>1</td>\n",
              "      <td>...</td>\n",
              "      <td>1</td>\n",
              "      <td>1</td>\n",
              "      <td>1</td>\n",
              "      <td>1</td>\n",
              "      <td>-9</td>\n",
              "      <td>1</td>\n",
              "      <td>1</td>\n",
              "      <td>1</td>\n",
              "      <td>name</td>\n",
              "      <td>Hungarian</td>\n",
              "    </tr>\n",
              "    <tr>\n",
              "      <th>4</th>\n",
              "      <td>3027</td>\n",
              "      <td>51</td>\n",
              "      <td>1</td>\n",
              "      <td>1</td>\n",
              "      <td>1</td>\n",
              "      <td>1</td>\n",
              "      <td>4</td>\n",
              "      <td>-9</td>\n",
              "      <td>0</td>\n",
              "      <td>1</td>\n",
              "      <td>...</td>\n",
              "      <td>1</td>\n",
              "      <td>1</td>\n",
              "      <td>2</td>\n",
              "      <td>1</td>\n",
              "      <td>1</td>\n",
              "      <td>1</td>\n",
              "      <td>2</td>\n",
              "      <td>1</td>\n",
              "      <td>name</td>\n",
              "      <td>Va</td>\n",
              "    </tr>\n",
              "  </tbody>\n",
              "</table>\n",
              "<p>5 rows × 54 columns</p>\n",
              "</div>"
            ],
            "text/plain": [
              "     id  age  gender  chestpainloc  painexertion  reliefbyrest  chestpaintype  \\\n",
              "0  4043   71       0             1             1             1              2   \n",
              "1  4159   60       1             1             1             1              4   \n",
              "2  5065   53       1             1             1             0              2   \n",
              "3  2003   37       1             1             0             0              2   \n",
              "4  3027   51       1             1             1             1              4   \n",
              "\n",
              "   restingBP  serumcholesterol  IsSmoker     ...       ladproximation  \\\n",
              "0        160               302         1     ...                    1   \n",
              "1        140               293        -9     ...                    1   \n",
              "2        120                 0         1     ...                    2   \n",
              "3        130               283         1     ...                    1   \n",
              "4         -9                 0         1     ...                    1   \n",
              "\n",
              "   laddistance  cxmain  ramus  obtuseMarginal1  obtuseMarginal2  \\\n",
              "0            1       1     -9                1                1   \n",
              "1            2       1      1                1                1   \n",
              "2            2       1      2                2                1   \n",
              "3            1       1      1               -9                1   \n",
              "4            1       2      1                1                1   \n",
              "\n",
              "   rcaproximation  rcadistance  nameOfPatient     Location  \n",
              "0               1            1           name    Cleveland  \n",
              "1               2            1           name    Cleveland  \n",
              "2               2            2           name  Switzerland  \n",
              "3               1            1           name    Hungarian  \n",
              "4               2            1           name           Va  \n",
              "\n",
              "[5 rows x 54 columns]"
            ]
          },
          "metadata": {
            "tags": []
          },
          "execution_count": 5
        }
      ]
    },
    {
      "metadata": {
        "id": "CtsSGen-6xCN",
        "colab_type": "code",
        "colab": {
          "base_uri": "https://localhost:8080/",
          "height": 35
        },
        "outputId": "4ba8fca9-bdd2-4fc3-b69f-35dd44cb9465"
      },
      "cell_type": "code",
      "source": [
        "(train_data.shape), (test_data.shape)"
      ],
      "execution_count": 6,
      "outputs": [
        {
          "output_type": "execute_result",
          "data": {
            "text/plain": [
              "((674, 55), (223, 54))"
            ]
          },
          "metadata": {
            "tags": []
          },
          "execution_count": 6
        }
      ]
    },
    {
      "metadata": {
        "id": "Qz9hYZ_W7j0v",
        "colab_type": "code",
        "colab": {
          "base_uri": "https://localhost:8080/",
          "height": 126
        },
        "outputId": "f1dd1fd7-3bd4-4d6c-ec20-8341e40cec79"
      },
      "cell_type": "code",
      "source": [
        "#Different classes in Outcome variable\n",
        "train_data[\"Severity\"].value_counts()"
      ],
      "execution_count": 7,
      "outputs": [
        {
          "output_type": "execute_result",
          "data": {
            "text/plain": [
              "None          228\n",
              "Moderate      147\n",
              "MildClass1    136\n",
              "MildClass2    118\n",
              "Severe         45\n",
              "Name: Severity, dtype: int64"
            ]
          },
          "metadata": {
            "tags": []
          },
          "execution_count": 7
        }
      ]
    },
    {
      "metadata": {
        "id": "epKzYY2b7lfj",
        "colab_type": "code",
        "colab": {
          "base_uri": "https://localhost:8080/",
          "height": 1017
        },
        "outputId": "59e171fb-c112-4548-f7ec-673721d1ae13"
      },
      "cell_type": "code",
      "source": [
        "for col_name in train_data.columns:\n",
        "    if train_data[col_name].dtypes ==  'object' or 'bool' :\n",
        "       unique_cat = len(train_data[col_name].unique())\n",
        "       print(\"Feature '{col_name}' has {unique_cat} unique categories\".format(col_name=col_name, unique_cat=unique_cat))"
      ],
      "execution_count": 8,
      "outputs": [
        {
          "output_type": "stream",
          "text": [
            "Feature 'id' has 674 unique categories\n",
            "Feature 'age' has 49 unique categories\n",
            "Feature 'gender' has 2 unique categories\n",
            "Feature 'chestpainloc' has 3 unique categories\n",
            "Feature 'painexertion' has 3 unique categories\n",
            "Feature 'reliefbyrest' has 3 unique categories\n",
            "Feature 'chestpaintype' has 4 unique categories\n",
            "Feature 'restingBP' has 59 unique categories\n",
            "Feature 'serumcholesterol' has 200 unique categories\n",
            "Feature 'IsSmoker' has 3 unique categories\n",
            "Feature 'NumCigs' has 24 unique categories\n",
            "Feature 'SmokingPeriod' has 39 unique categories\n",
            "Feature 'FastingBS' has 3 unique categories\n",
            "Feature 'FamHistory' has 3 unique categories\n",
            "Feature 'restingECGRes' has 4 unique categories\n",
            "Feature 'ECGspecsDigitalis' has 3 unique categories\n",
            "Feature 'ECGspecsBetaBlocker' has 3 unique categories\n",
            "Feature 'ECGspecsNitrates' has 3 unique categories\n",
            "Feature 'ECGspecsCalci' has 3 unique categories\n",
            "Feature 'ECGspecsdiuretic' has 3 unique categories\n",
            "Feature 'ExTestDuration' has 76 unique categories\n",
            "Feature 'TimeSTNoted' has 57 unique categories\n",
            "Feature 'Metabolism' has 34 unique categories\n",
            "Feature 'MaxHR' has 113 unique categories\n",
            "Feature 'RestHRGen' has 71 unique categories\n",
            "Feature 'PeakExBP1' has 65 unique categories\n",
            "Feature 'PeakExBP2' has 46 unique categories\n",
            "Feature 'restingBPGen' has 33 unique categories\n",
            "Feature 'ExInducedAngina' has 3 unique categories\n",
            "Feature 'xhypo' has 3 unique categories\n",
            "Feature 'Stdepression' has 50 unique categories\n",
            "Feature 'Slope' has 5 unique categories\n",
            "Feature 'HeightatRest' has 30 unique categories\n",
            "Feature 'heightatPeakEx' has 126 unique categories\n",
            "Feature 'NumMajVessels' has 6 unique categories\n",
            "Feature 'restRaidonuclid' has 19 unique categories\n",
            "Feature 'restwallmotion' has 5 unique categories\n",
            "Feature 'exerRadinalid' has 3 unique categories\n",
            "Feature 'ExerWallmotion' has 2 unique categories\n",
            "Feature 'thalassemia' has 8 unique categories\n",
            "Feature 'thalsev' has 5 unique categories\n",
            "Feature 'thalpul' has 3 unique categories\n",
            "Feature 'earlobe' has 2 unique categories\n",
            "Feature 'LeftMaintrunk' has 5 unique categories\n",
            "Feature 'ladproximation' has 3 unique categories\n",
            "Feature 'laddistance' has 3 unique categories\n",
            "Feature 'cxmain' has 3 unique categories\n",
            "Feature 'ramus' has 3 unique categories\n",
            "Feature 'obtuseMarginal1' has 3 unique categories\n",
            "Feature 'obtuseMarginal2' has 3 unique categories\n",
            "Feature 'rcaproximation' has 3 unique categories\n",
            "Feature 'rcadistance' has 3 unique categories\n",
            "Feature 'nameOfPatient' has 1 unique categories\n",
            "Feature 'Location' has 4 unique categories\n",
            "Feature 'Severity' has 5 unique categories\n"
          ],
          "name": "stdout"
        }
      ]
    },
    {
      "metadata": {
        "id": "SifjcLab7q4q",
        "colab_type": "code",
        "colab": {}
      },
      "cell_type": "code",
      "source": [
        "### Drop the ID column from both Train and Test Data.\n",
        "\n",
        "train_data.drop(['id','Location','nameOfPatient'],axis=1, inplace=True)\n",
        "test_data.drop(['id', 'Location','nameOfPatient'],axis=1, inplace=True)"
      ],
      "execution_count": 0,
      "outputs": []
    },
    {
      "metadata": {
        "id": "ouoCA3RI8CiQ",
        "colab_type": "code",
        "colab": {
          "base_uri": "https://localhost:8080/",
          "height": 54
        },
        "outputId": "1ae465e7-898a-45c2-c8a4-d5273f73bcce"
      },
      "cell_type": "code",
      "source": [
        "print(len(train_data.columns))\n",
        "print(len(test_data.columns))"
      ],
      "execution_count": 10,
      "outputs": [
        {
          "output_type": "stream",
          "text": [
            "52\n",
            "51\n"
          ],
          "name": "stdout"
        }
      ]
    },
    {
      "metadata": {
        "id": "rM-pkTv18FvF",
        "colab_type": "code",
        "colab": {}
      },
      "cell_type": "code",
      "source": [
        "categorical_list = [\"gender\",\"chestpainloc\",\"painexertion\",\"reliefbyrest\",\"chestpaintype\",\"IsSmoker\",\"FastingBS\",\"FamHistory\",\"restingECGRes\",\n",
        "                    \"ECGspecsDigitalis\",\"ECGspecsBetaBlocker\",\"ECGspecsNitrates\",\"ECGspecsCalci\",\"ECGspecsdiuretic\",\"ExInducedAngina\",\"xhypo\",\n",
        "                    \"Slope\",\"restwallmotion\",\"ExerWallmotion\",\"thalassemia\",\"LeftMaintrunk\",\"ladproximation\",\"laddistance\",\"cxmain\",\n",
        "                    \"ramus\",\"obtuseMarginal1\",\"obtuseMarginal2\",\"rcaproximation\",\"rcadistance\"]"
      ],
      "execution_count": 0,
      "outputs": []
    },
    {
      "metadata": {
        "id": "ri3VtOGC8I3U",
        "colab_type": "code",
        "colab": {}
      },
      "cell_type": "code",
      "source": [
        "categorical_list_t = [\"gender\",\"chestpainloc\",\"painexertion\",\"reliefbyrest\",\"chestpaintype\",\"IsSmoker\",\"FastingBS\",\"FamHistory\",\"restingECGRes\",\n",
        "                    \"ECGspecsDigitalis\",\"ECGspecsBetaBlocker\",\"ECGspecsNitrates\",\"ECGspecsCalci\",\"ECGspecsdiuretic\",\"ExInducedAngina\",\"xhypo\",\n",
        "                    \"Slope\",\"restwallmotion\",\"ExerWallmotion\",\"thalassemia\",\"LeftMaintrunk\",\"ladproximation\",\"laddistance\",\"cxmain\",\n",
        "                    \"ramus\",\"obtuseMarginal1\",\"obtuseMarginal2\",\"rcaproximation\",\"rcadistance\"]"
      ],
      "execution_count": 0,
      "outputs": []
    },
    {
      "metadata": {
        "id": "_WGmexwZ8PU7",
        "colab_type": "code",
        "colab": {
          "base_uri": "https://localhost:8080/",
          "height": 74
        },
        "outputId": "3f3db699-9752-49f1-f0e9-6a35d323619e"
      },
      "cell_type": "code",
      "source": [
        "print(categorical_list)\n",
        "print(len(categorical_list))"
      ],
      "execution_count": 13,
      "outputs": [
        {
          "output_type": "stream",
          "text": [
            "['gender', 'chestpainloc', 'painexertion', 'reliefbyrest', 'chestpaintype', 'IsSmoker', 'FastingBS', 'FamHistory', 'restingECGRes', 'ECGspecsDigitalis', 'ECGspecsBetaBlocker', 'ECGspecsNitrates', 'ECGspecsCalci', 'ECGspecsdiuretic', 'ExInducedAngina', 'xhypo', 'Slope', 'restwallmotion', 'ExerWallmotion', 'thalassemia', 'LeftMaintrunk', 'ladproximation', 'laddistance', 'cxmain', 'ramus', 'obtuseMarginal1', 'obtuseMarginal2', 'rcaproximation', 'rcadistance']\n",
            "29\n"
          ],
          "name": "stdout"
        }
      ]
    },
    {
      "metadata": {
        "id": "PwV6EkFn8QrP",
        "colab_type": "code",
        "colab": {
          "base_uri": "https://localhost:8080/",
          "height": 74
        },
        "outputId": "0da7f1a3-1d32-4f59-b189-739ae7dad184"
      },
      "cell_type": "code",
      "source": [
        "print(categorical_list_t)\n",
        "print(len(categorical_list_t))"
      ],
      "execution_count": 14,
      "outputs": [
        {
          "output_type": "stream",
          "text": [
            "['gender', 'chestpainloc', 'painexertion', 'reliefbyrest', 'chestpaintype', 'IsSmoker', 'FastingBS', 'FamHistory', 'restingECGRes', 'ECGspecsDigitalis', 'ECGspecsBetaBlocker', 'ECGspecsNitrates', 'ECGspecsCalci', 'ECGspecsdiuretic', 'ExInducedAngina', 'xhypo', 'Slope', 'restwallmotion', 'ExerWallmotion', 'thalassemia', 'LeftMaintrunk', 'ladproximation', 'laddistance', 'cxmain', 'ramus', 'obtuseMarginal1', 'obtuseMarginal2', 'rcaproximation', 'rcadistance']\n",
            "29\n"
          ],
          "name": "stdout"
        }
      ]
    },
    {
      "metadata": {
        "id": "3Eqdgxw58TUL",
        "colab_type": "code",
        "colab": {}
      },
      "cell_type": "code",
      "source": [
        "#Identifying categorical attributes in train data\n",
        "for i in train_data[categorical_list]:\n",
        "    train_data[i] = train_data[i].astype(\"category\") "
      ],
      "execution_count": 0,
      "outputs": []
    },
    {
      "metadata": {
        "id": "9do8AY7z8YLq",
        "colab_type": "code",
        "colab": {}
      },
      "cell_type": "code",
      "source": [
        "#Identifying categorical attributes in test data\n",
        "for i in test_data[categorical_list_t]:\n",
        "    test_data[i] = test_data[i].astype(\"category\") "
      ],
      "execution_count": 0,
      "outputs": []
    },
    {
      "metadata": {
        "id": "UCYZ9DuM8agr",
        "colab_type": "code",
        "colab": {
          "base_uri": "https://localhost:8080/",
          "height": 35
        },
        "outputId": "66162eb0-6964-40af-af94-c863c0f2feb1"
      },
      "cell_type": "code",
      "source": [
        "#Creating a list of numerical attributes\n",
        "numeric_list = train_data.select_dtypes(exclude=['category']).columns\n",
        "print(len(numeric_list))"
      ],
      "execution_count": 17,
      "outputs": [
        {
          "output_type": "stream",
          "text": [
            "23\n"
          ],
          "name": "stdout"
        }
      ]
    },
    {
      "metadata": {
        "id": "T_hh_iw08dQ1",
        "colab_type": "code",
        "colab": {
          "base_uri": "https://localhost:8080/",
          "height": 126
        },
        "outputId": "b72b9fbf-189e-45a3-a78b-2dc38b22f794"
      },
      "cell_type": "code",
      "source": [
        "print(numeric_list)"
      ],
      "execution_count": 18,
      "outputs": [
        {
          "output_type": "stream",
          "text": [
            "Index(['age', 'restingBP', 'serumcholesterol', 'NumCigs', 'SmokingPeriod',\n",
            "       'ExTestDuration', 'TimeSTNoted', 'Metabolism', 'MaxHR', 'RestHRGen',\n",
            "       'PeakExBP1', 'PeakExBP2', 'restingBPGen', 'Stdepression',\n",
            "       'HeightatRest', 'heightatPeakEx', 'NumMajVessels', 'restRaidonuclid',\n",
            "       'exerRadinalid', 'thalsev', 'thalpul', 'earlobe', 'Severity'],\n",
            "      dtype='object')\n"
          ],
          "name": "stdout"
        }
      ]
    },
    {
      "metadata": {
        "id": "v6ZN0IFM8hwD",
        "colab_type": "code",
        "colab": {
          "base_uri": "https://localhost:8080/",
          "height": 35
        },
        "outputId": "9c1802ec-f351-421f-fb08-63505e599810"
      },
      "cell_type": "code",
      "source": [
        "### Number of rows with Atleast one missing value is 598 out of 674 rows.\n",
        "### So we cannot drop these rows and hence will have to impute them.\n",
        "sum(train_data.apply(lambda x: sum(x.isnull().values), axis = 1)>0)"
      ],
      "execution_count": 19,
      "outputs": [
        {
          "output_type": "execute_result",
          "data": {
            "text/plain": [
              "598"
            ]
          },
          "metadata": {
            "tags": []
          },
          "execution_count": 19
        }
      ]
    },
    {
      "metadata": {
        "id": "l_MmxR-G8tCN",
        "colab_type": "code",
        "colab": {
          "base_uri": "https://localhost:8080/",
          "height": 963
        },
        "outputId": "c28125bf-f1f7-47c6-8ea5-924109f9a918"
      },
      "cell_type": "code",
      "source": [
        "### Check the null values in Train Dataset\n",
        "\n",
        "#print(train_data.isnull().sum())\n",
        "print(test_data.isnull().sum())"
      ],
      "execution_count": 20,
      "outputs": [
        {
          "output_type": "stream",
          "text": [
            "age                    0\n",
            "gender                 0\n",
            "chestpainloc           0\n",
            "painexertion           0\n",
            "reliefbyrest           0\n",
            "chestpaintype          0\n",
            "restingBP              0\n",
            "serumcholesterol       0\n",
            "IsSmoker               0\n",
            "NumCigs                0\n",
            "SmokingPeriod          0\n",
            "FastingBS              0\n",
            "FamHistory             0\n",
            "restingECGRes          0\n",
            "ECGspecsDigitalis      0\n",
            "ECGspecsBetaBlocker    0\n",
            "ECGspecsNitrates       0\n",
            "ECGspecsCalci          0\n",
            "ECGspecsdiuretic       0\n",
            "ExTestDuration         0\n",
            "TimeSTNoted            0\n",
            "Metabolism             0\n",
            "MaxHR                  0\n",
            "RestHRGen              0\n",
            "PeakExBP1              0\n",
            "PeakExBP2              0\n",
            "restingBPGen           0\n",
            "ExInducedAngina        0\n",
            "xhypo                  0\n",
            "Stdepression           0\n",
            "Slope                  0\n",
            "HeightatRest           0\n",
            "heightatPeakEx         0\n",
            "NumMajVessels          0\n",
            "restRaidonuclid        0\n",
            "restwallmotion         0\n",
            "exerRadinalid          0\n",
            "ExerWallmotion         0\n",
            "thalassemia            0\n",
            "thalsev                0\n",
            "thalpul                0\n",
            "earlobe                0\n",
            "LeftMaintrunk          0\n",
            "ladproximation         0\n",
            "laddistance            0\n",
            "cxmain                 0\n",
            "ramus                  0\n",
            "obtuseMarginal1        0\n",
            "obtuseMarginal2        0\n",
            "rcaproximation         0\n",
            "rcadistance            0\n",
            "dtype: int64\n"
          ],
          "name": "stdout"
        }
      ]
    },
    {
      "metadata": {
        "id": "BXZN2xNg8unn",
        "colab_type": "code",
        "colab": {}
      },
      "cell_type": "code",
      "source": [
        "#Imputation of Numerical attributes in train data\n",
        "\n",
        "#When you have more columns use the following code\n",
        "for column in  ['age', 'restingBP', 'serumcholesterol', 'NumCigs', 'SmokingPeriod',\n",
        "       'ExTestDuration', 'TimeSTNoted', 'Metabolism', 'MaxHR', 'RestHRGen',\n",
        "       'PeakExBP1', 'PeakExBP2', 'restingBPGen', 'Stdepression',\n",
        "       'HeightatRest', 'heightatPeakEx', 'NumMajVessels', 'restRaidonuclid',\n",
        "       'exerRadinalid', 'thalsev', 'thalpul', 'earlobe']:\n",
        "    train_data[column].fillna(train_data[column].mean(), inplace=True)\n",
        "#If you want to replace with median use median() instead of mean()\n",
        "#If you want to replace with mode use mode()[0]"
      ],
      "execution_count": 0,
      "outputs": []
    },
    {
      "metadata": {
        "id": "me3Ge75V8zNP",
        "colab_type": "code",
        "colab": {}
      },
      "cell_type": "code",
      "source": [
        "#Imputation of categorical attributes in train data\n",
        "\n",
        "for column in ['gender', 'chestpainloc', 'painexertion', 'reliefbyrest', 'chestpaintype', 'IsSmoker', 'FastingBS', 'FamHistory', 'restingECGRes', 'ECGspecsDigitalis', 'ECGspecsBetaBlocker', 'ECGspecsNitrates', 'ECGspecsCalci', 'ECGspecsdiuretic', 'ExInducedAngina', 'xhypo', 'Slope', 'restwallmotion', 'ExerWallmotion', 'thalassemia', 'LeftMaintrunk', 'ladproximation', 'laddistance', 'cxmain', 'ramus', 'obtuseMarginal1', 'obtuseMarginal2', 'rcaproximation', 'rcadistance']:\n",
        "    train_data[column].fillna(train_data[column].mode()[0], inplace=True)\n",
        "\n"
      ],
      "execution_count": 0,
      "outputs": []
    },
    {
      "metadata": {
        "id": "KNhQsbD_830z",
        "colab_type": "code",
        "colab": {
          "base_uri": "https://localhost:8080/",
          "height": 35
        },
        "outputId": "c1cfed0a-46ec-40f6-fc44-1dbfef02c1e0"
      },
      "cell_type": "code",
      "source": [
        "print(train_data.isnull().sum().sum())"
      ],
      "execution_count": 23,
      "outputs": [
        {
          "output_type": "stream",
          "text": [
            "0\n"
          ],
          "name": "stdout"
        }
      ]
    },
    {
      "metadata": {
        "id": "X24dwKn284nt",
        "colab_type": "code",
        "colab": {
          "base_uri": "https://localhost:8080/",
          "height": 35
        },
        "outputId": "928c79ba-84dd-4741-acfd-81853546fb7d"
      },
      "cell_type": "code",
      "source": [
        "#print(test_data.isnan())\n",
        "print(test_data.isnull().sum().sum())"
      ],
      "execution_count": 24,
      "outputs": [
        {
          "output_type": "stream",
          "text": [
            "0\n"
          ],
          "name": "stdout"
        }
      ]
    },
    {
      "metadata": {
        "id": "jHrQ8vVs88pY",
        "colab_type": "code",
        "colab": {}
      },
      "cell_type": "code",
      "source": [
        "#IMputation of Numerical attributes in test data\n",
        "\n",
        "#When you have more columns use the following code\n",
        "for column in  ['age', 'restingBP', 'serumcholesterol', 'NumCigs', 'SmokingPeriod',\n",
        "       'ExTestDuration', 'TimeSTNoted', 'Metabolism', 'MaxHR', 'RestHRGen',\n",
        "       'PeakExBP1', 'PeakExBP2', 'restingBPGen', 'Stdepression',\n",
        "       'HeightatRest', 'heightatPeakEx', 'NumMajVessels', 'restRaidonuclid',\n",
        "       'exerRadinalid', 'thalsev', 'thalpul', 'earlobe']:\n",
        "    test_data[column].fillna(test_data[column].mean(), inplace=True)\n",
        "#If you want to replace with median use median() instead of mean()\n",
        "#If you want to replace with mode use mode()[0]"
      ],
      "execution_count": 0,
      "outputs": []
    },
    {
      "metadata": {
        "id": "QdsMXAhP8_cf",
        "colab_type": "code",
        "colab": {}
      },
      "cell_type": "code",
      "source": [
        "#Imputation of categorical attributes in train data\n",
        "\n",
        "for column in ['gender', 'chestpainloc', 'painexertion', 'reliefbyrest', 'chestpaintype', 'IsSmoker', 'FastingBS', 'FamHistory', 'restingECGRes', 'ECGspecsDigitalis', 'ECGspecsBetaBlocker', 'ECGspecsNitrates', 'ECGspecsCalci', 'ECGspecsdiuretic', 'ExInducedAngina', 'xhypo', 'Slope', 'restwallmotion', 'ExerWallmotion', 'thalassemia', 'LeftMaintrunk', 'ladproximation', 'laddistance', 'cxmain', 'ramus', 'obtuseMarginal1', 'obtuseMarginal2', 'rcaproximation', 'rcadistance']:\n",
        "    test_data[column].fillna(test_data[column].mode()[0], inplace=True)"
      ],
      "execution_count": 0,
      "outputs": []
    },
    {
      "metadata": {
        "id": "7-i1hM7h9CA9",
        "colab_type": "code",
        "colab": {
          "base_uri": "https://localhost:8080/",
          "height": 35
        },
        "outputId": "29f14e8d-59b0-491a-ea9e-f4fc615038ff"
      },
      "cell_type": "code",
      "source": [
        "print(test_data.isnull().sum().sum())"
      ],
      "execution_count": 27,
      "outputs": [
        {
          "output_type": "stream",
          "text": [
            "0\n"
          ],
          "name": "stdout"
        }
      ]
    },
    {
      "metadata": {
        "id": "Iqk87cLH9E38",
        "colab_type": "code",
        "colab": {}
      },
      "cell_type": "code",
      "source": [
        "#train_data.dtypes['chestpainloc']"
      ],
      "execution_count": 0,
      "outputs": []
    },
    {
      "metadata": {
        "id": "uC4oPC_Z9ICa",
        "colab_type": "code",
        "colab": {
          "base_uri": "https://localhost:8080/",
          "height": 247
        },
        "outputId": "14636759-0911-4292-e33d-641eb7e1fa1c"
      },
      "cell_type": "code",
      "source": [
        "train_data.head(5)"
      ],
      "execution_count": 29,
      "outputs": [
        {
          "output_type": "execute_result",
          "data": {
            "text/html": [
              "<div>\n",
              "<style scoped>\n",
              "    .dataframe tbody tr th:only-of-type {\n",
              "        vertical-align: middle;\n",
              "    }\n",
              "\n",
              "    .dataframe tbody tr th {\n",
              "        vertical-align: top;\n",
              "    }\n",
              "\n",
              "    .dataframe thead th {\n",
              "        text-align: right;\n",
              "    }\n",
              "</style>\n",
              "<table border=\"1\" class=\"dataframe\">\n",
              "  <thead>\n",
              "    <tr style=\"text-align: right;\">\n",
              "      <th></th>\n",
              "      <th>age</th>\n",
              "      <th>gender</th>\n",
              "      <th>chestpainloc</th>\n",
              "      <th>painexertion</th>\n",
              "      <th>reliefbyrest</th>\n",
              "      <th>chestpaintype</th>\n",
              "      <th>restingBP</th>\n",
              "      <th>serumcholesterol</th>\n",
              "      <th>IsSmoker</th>\n",
              "      <th>NumCigs</th>\n",
              "      <th>...</th>\n",
              "      <th>LeftMaintrunk</th>\n",
              "      <th>ladproximation</th>\n",
              "      <th>laddistance</th>\n",
              "      <th>cxmain</th>\n",
              "      <th>ramus</th>\n",
              "      <th>obtuseMarginal1</th>\n",
              "      <th>obtuseMarginal2</th>\n",
              "      <th>rcaproximation</th>\n",
              "      <th>rcadistance</th>\n",
              "      <th>Severity</th>\n",
              "    </tr>\n",
              "  </thead>\n",
              "  <tbody>\n",
              "    <tr>\n",
              "      <th>0</th>\n",
              "      <td>37</td>\n",
              "      <td>1</td>\n",
              "      <td>1.0</td>\n",
              "      <td>0.0</td>\n",
              "      <td>0.0</td>\n",
              "      <td>3</td>\n",
              "      <td>118.0</td>\n",
              "      <td>240.0</td>\n",
              "      <td>0.0</td>\n",
              "      <td>18.567939</td>\n",
              "      <td>...</td>\n",
              "      <td>1.0</td>\n",
              "      <td>1.0</td>\n",
              "      <td>1.0</td>\n",
              "      <td>1.0</td>\n",
              "      <td>1.0</td>\n",
              "      <td>1.0</td>\n",
              "      <td>1.0</td>\n",
              "      <td>1.0</td>\n",
              "      <td>1.0</td>\n",
              "      <td>None</td>\n",
              "    </tr>\n",
              "    <tr>\n",
              "      <th>1</th>\n",
              "      <td>41</td>\n",
              "      <td>0</td>\n",
              "      <td>1.0</td>\n",
              "      <td>1.0</td>\n",
              "      <td>1.0</td>\n",
              "      <td>2</td>\n",
              "      <td>126.0</td>\n",
              "      <td>306.0</td>\n",
              "      <td>1.0</td>\n",
              "      <td>0.000000</td>\n",
              "      <td>...</td>\n",
              "      <td>1.0</td>\n",
              "      <td>1.0</td>\n",
              "      <td>1.0</td>\n",
              "      <td>1.0</td>\n",
              "      <td>1.0</td>\n",
              "      <td>1.0</td>\n",
              "      <td>1.0</td>\n",
              "      <td>1.0</td>\n",
              "      <td>1.0</td>\n",
              "      <td>None</td>\n",
              "    </tr>\n",
              "    <tr>\n",
              "      <th>2</th>\n",
              "      <td>54</td>\n",
              "      <td>1</td>\n",
              "      <td>0.0</td>\n",
              "      <td>0.0</td>\n",
              "      <td>0.0</td>\n",
              "      <td>1</td>\n",
              "      <td>120.0</td>\n",
              "      <td>171.0</td>\n",
              "      <td>1.0</td>\n",
              "      <td>19.000000</td>\n",
              "      <td>...</td>\n",
              "      <td>1.0</td>\n",
              "      <td>1.0</td>\n",
              "      <td>1.0</td>\n",
              "      <td>1.0</td>\n",
              "      <td>1.0</td>\n",
              "      <td>1.0</td>\n",
              "      <td>1.0</td>\n",
              "      <td>1.0</td>\n",
              "      <td>1.0</td>\n",
              "      <td>Moderate</td>\n",
              "    </tr>\n",
              "    <tr>\n",
              "      <th>3</th>\n",
              "      <td>44</td>\n",
              "      <td>1</td>\n",
              "      <td>1.0</td>\n",
              "      <td>0.0</td>\n",
              "      <td>0.0</td>\n",
              "      <td>2</td>\n",
              "      <td>130.0</td>\n",
              "      <td>215.0</td>\n",
              "      <td>1.0</td>\n",
              "      <td>19.000000</td>\n",
              "      <td>...</td>\n",
              "      <td>1.0</td>\n",
              "      <td>1.0</td>\n",
              "      <td>1.0</td>\n",
              "      <td>1.0</td>\n",
              "      <td>1.0</td>\n",
              "      <td>1.0</td>\n",
              "      <td>1.0</td>\n",
              "      <td>1.0</td>\n",
              "      <td>1.0</td>\n",
              "      <td>None</td>\n",
              "    </tr>\n",
              "    <tr>\n",
              "      <th>4</th>\n",
              "      <td>58</td>\n",
              "      <td>1</td>\n",
              "      <td>1.0</td>\n",
              "      <td>0.0</td>\n",
              "      <td>0.0</td>\n",
              "      <td>2</td>\n",
              "      <td>130.0</td>\n",
              "      <td>251.0</td>\n",
              "      <td>1.0</td>\n",
              "      <td>19.000000</td>\n",
              "      <td>...</td>\n",
              "      <td>1.0</td>\n",
              "      <td>1.0</td>\n",
              "      <td>1.0</td>\n",
              "      <td>1.0</td>\n",
              "      <td>1.0</td>\n",
              "      <td>1.0</td>\n",
              "      <td>1.0</td>\n",
              "      <td>1.0</td>\n",
              "      <td>1.0</td>\n",
              "      <td>MildClass2</td>\n",
              "    </tr>\n",
              "  </tbody>\n",
              "</table>\n",
              "<p>5 rows × 52 columns</p>\n",
              "</div>"
            ],
            "text/plain": [
              "   age gender chestpainloc painexertion reliefbyrest chestpaintype  restingBP  \\\n",
              "0   37      1          1.0          0.0          0.0             3      118.0   \n",
              "1   41      0          1.0          1.0          1.0             2      126.0   \n",
              "2   54      1          0.0          0.0          0.0             1      120.0   \n",
              "3   44      1          1.0          0.0          0.0             2      130.0   \n",
              "4   58      1          1.0          0.0          0.0             2      130.0   \n",
              "\n",
              "   serumcholesterol IsSmoker    NumCigs     ...      LeftMaintrunk  \\\n",
              "0             240.0      0.0  18.567939     ...                1.0   \n",
              "1             306.0      1.0   0.000000     ...                1.0   \n",
              "2             171.0      1.0  19.000000     ...                1.0   \n",
              "3             215.0      1.0  19.000000     ...                1.0   \n",
              "4             251.0      1.0  19.000000     ...                1.0   \n",
              "\n",
              "  ladproximation laddistance cxmain ramus obtuseMarginal1 obtuseMarginal2  \\\n",
              "0            1.0         1.0    1.0   1.0             1.0             1.0   \n",
              "1            1.0         1.0    1.0   1.0             1.0             1.0   \n",
              "2            1.0         1.0    1.0   1.0             1.0             1.0   \n",
              "3            1.0         1.0    1.0   1.0             1.0             1.0   \n",
              "4            1.0         1.0    1.0   1.0             1.0             1.0   \n",
              "\n",
              "  rcaproximation rcadistance    Severity  \n",
              "0            1.0         1.0        None  \n",
              "1            1.0         1.0        None  \n",
              "2            1.0         1.0    Moderate  \n",
              "3            1.0         1.0        None  \n",
              "4            1.0         1.0  MildClass2  \n",
              "\n",
              "[5 rows x 52 columns]"
            ]
          },
          "metadata": {
            "tags": []
          },
          "execution_count": 29
        }
      ]
    },
    {
      "metadata": {
        "id": "Zi-rcBOA9J_X",
        "colab_type": "code",
        "colab": {}
      },
      "cell_type": "code",
      "source": [
        "corr_num_attr = train_data.select_dtypes(include=['float64','float']).columns\n",
        "#print(corr_num_attr)"
      ],
      "execution_count": 0,
      "outputs": []
    },
    {
      "metadata": {
        "id": "aM5igfIQ9Nda",
        "colab_type": "code",
        "colab": {}
      },
      "cell_type": "code",
      "source": [
        "corr=train_data[corr_num_attr].corr()"
      ],
      "execution_count": 0,
      "outputs": []
    },
    {
      "metadata": {
        "id": "smJuw6kb9Q8v",
        "colab_type": "code",
        "colab": {
          "base_uri": "https://localhost:8080/",
          "height": 696
        },
        "outputId": "291d271b-d09e-4794-a589-342e4a287b76"
      },
      "cell_type": "code",
      "source": [
        "fig, ax = plt.subplots()\n",
        "fig.set_size_inches(20, 10)\n",
        "sns.heatmap(corr,cmap='coolwarm',ax=ax,annot=True,linewidths=2)"
      ],
      "execution_count": 32,
      "outputs": [
        {
          "output_type": "execute_result",
          "data": {
            "text/plain": [
              "<matplotlib.axes._subplots.AxesSubplot at 0x7f8199240278>"
            ]
          },
          "metadata": {
            "tags": []
          },
          "execution_count": 32
        },
        {
          "output_type": "display_data",
          "data": {
            "image/png": "[encoded data removed]",
            "text/plain": [
              "<Figure size 1440x720 with 2 Axes>"
            ]
          },
          "metadata": {
            "tags": []
          }
        }
      ]
    },
    {
      "metadata": {
        "id": "wi_7Yu2C9XGK",
        "colab_type": "code",
        "colab": {}
      },
      "cell_type": "code",
      "source": [
        "from sklearn import preprocessing\n",
        "from sklearn.preprocessing import LabelEncoder"
      ],
      "execution_count": 0,
      "outputs": []
    },
    {
      "metadata": {
        "id": "SM8Zl4ha9Zml",
        "colab_type": "code",
        "colab": {}
      },
      "cell_type": "code",
      "source": [
        "le1 = preprocessing.LabelEncoder()\n",
        "for i in categorical_list:\n",
        "    le1.fit(train_data[i])\n",
        "    train_data[i] = le1.fit_transform(train_data[i])"
      ],
      "execution_count": 0,
      "outputs": []
    },
    {
      "metadata": {
        "id": "eKfk6kHw9aoa",
        "colab_type": "code",
        "colab": {}
      },
      "cell_type": "code",
      "source": [
        "le2 = preprocessing.LabelEncoder()\n",
        "for i in categorical_list_t:\n",
        "    le2.fit(test_data[i])\n",
        "    test_data[i] = le2.fit_transform(test_data[i])"
      ],
      "execution_count": 0,
      "outputs": []
    },
    {
      "metadata": {
        "id": "yKSj8z3n9eFK",
        "colab_type": "code",
        "colab": {
          "base_uri": "https://localhost:8080/",
          "height": 35
        },
        "outputId": "63eccbf1-ba77-4414-989b-ab780e8eff8b"
      },
      "cell_type": "code",
      "source": [
        "print(test_data.shape)"
      ],
      "execution_count": 36,
      "outputs": [
        {
          "output_type": "stream",
          "text": [
            "(223, 51)\n"
          ],
          "name": "stdout"
        }
      ]
    },
    {
      "metadata": {
        "id": "oZ8oYnm59iJo",
        "colab_type": "code",
        "colab": {}
      },
      "cell_type": "code",
      "source": [
        "from sklearn import tree\n",
        "\n",
        "clf = tree.DecisionTreeClassifier(max_depth=12)\n"
      ],
      "execution_count": 0,
      "outputs": []
    },
    {
      "metadata": {
        "id": "Lao-f8Oc9grU",
        "colab_type": "code",
        "colab": {
          "base_uri": "https://localhost:8080/",
          "height": 90
        },
        "outputId": "ff5a3a68-d854-4c5e-ba78-b026e63e00c4"
      },
      "cell_type": "code",
      "source": [
        "# Divide train data into train and evaluation data\n",
        "y=train_data[\"Severity\"]\n",
        "X=train_data.drop('Severity', axis=1)\n",
        "X_train, X_eval, y_train, y_eval = train_test_split(X, y, test_size=0.10)\n",
        "print(X_train.shape)\n",
        "print(X_eval.shape)\n",
        "print(y_train.shape)\n",
        "print(y_eval.shape)"
      ],
      "execution_count": 38,
      "outputs": [
        {
          "output_type": "stream",
          "text": [
            "(606, 51)\n",
            "(68, 51)\n",
            "(606,)\n",
            "(68,)\n"
          ],
          "name": "stdout"
        }
      ]
    },
    {
      "metadata": {
        "id": "32JaN2dc_0Y3",
        "colab_type": "code",
        "colab": {
          "base_uri": "https://localhost:8080/",
          "height": 163
        },
        "outputId": "497ffdd6-cc1e-4819-de3d-c095c7f23787"
      },
      "cell_type": "code",
      "source": [
        "\n",
        "%time clf.fit(X_train, y_train)"
      ],
      "execution_count": 39,
      "outputs": [
        {
          "output_type": "stream",
          "text": [
            "CPU times: user 6.82 ms, sys: 3.78 ms, total: 10.6 ms\n",
            "Wall time: 12.5 ms\n"
          ],
          "name": "stdout"
        },
        {
          "output_type": "execute_result",
          "data": {
            "text/plain": [
              "DecisionTreeClassifier(class_weight=None, criterion='gini', max_depth=12,\n",
              "            max_features=None, max_leaf_nodes=None,\n",
              "            min_impurity_decrease=0.0, min_impurity_split=None,\n",
              "            min_samples_leaf=1, min_samples_split=2,\n",
              "            min_weight_fraction_leaf=0.0, presort=False, random_state=None,\n",
              "            splitter='best')"
            ]
          },
          "metadata": {
            "tags": []
          },
          "execution_count": 39
        }
      ]
    },
    {
      "metadata": {
        "id": "mTIg1Dqu-SiV",
        "colab_type": "code",
        "colab": {
          "base_uri": "https://localhost:8080/",
          "height": 35
        },
        "outputId": "b42bff99-3e0b-4bf1-c21a-e033a4fb5447"
      },
      "cell_type": "code",
      "source": [
        "y1_pred_ = clf.predict(X_train)\n",
        "print(accuracy_score(y_train,y1_pred_))"
      ],
      "execution_count": 40,
      "outputs": [
        {
          "output_type": "stream",
          "text": [
            "0.9257425742574258\n"
          ],
          "name": "stdout"
        }
      ]
    },
    {
      "metadata": {
        "id": "Hc7ib8f8_74_",
        "colab_type": "code",
        "colab": {
          "base_uri": "https://localhost:8080/",
          "height": 35
        },
        "outputId": "f9aa074c-e735-4fb9-e2b8-69729ec0e4a4"
      },
      "cell_type": "code",
      "source": [
        "y_pred_ = clf.predict(X_eval)\n",
        "print(accuracy_score(y_eval,y_pred_))"
      ],
      "execution_count": 41,
      "outputs": [
        {
          "output_type": "stream",
          "text": [
            "0.8235294117647058\n"
          ],
          "name": "stdout"
        }
      ]
    },
    {
      "metadata": {
        "id": "Oun2j5bbAxL0",
        "colab_type": "code",
        "colab": {}
      },
      "cell_type": "code",
      "source": [
        "from sklearn.model_selection import GridSearchCV"
      ],
      "execution_count": 0,
      "outputs": []
    },
    {
      "metadata": {
        "id": "wUuyQOLnJqSF",
        "colab_type": "code",
        "colab": {}
      },
      "cell_type": "code",
      "source": [
        "param_grid = {\"criterion\": [\"gini\", \"entropy\"],\n",
        "              \"min_samples_split\": [2, 10, 20],\n",
        "              \"max_depth\": [None, 2, 5, 10],\n",
        "              \"min_samples_leaf\": [1, 5, 10],\n",
        "              \"max_leaf_nodes\": [None, 5, 10, 20],\n",
        "              }"
      ],
      "execution_count": 0,
      "outputs": []
    },
    {
      "metadata": {
        "id": "3xZNXyiFJtFN",
        "colab_type": "code",
        "colab": {}
      },
      "cell_type": "code",
      "source": [
        "dt = tree.DecisionTreeClassifier()\n",
        "clf = GridSearchCV(dt, param_grid, cv=10)"
      ],
      "execution_count": 0,
      "outputs": []
    },
    {
      "metadata": {
        "id": "qy3i-kR8JvEB",
        "colab_type": "code",
        "colab": {
          "base_uri": "https://localhost:8080/",
          "height": 310
        },
        "outputId": "2f8d34a5-506b-4ca8-c674-e89372c5ef44"
      },
      "cell_type": "code",
      "source": [
        "%time clf.fit(X_train, y_train)"
      ],
      "execution_count": 45,
      "outputs": [
        {
          "output_type": "stream",
          "text": [
            "CPU times: user 24.2 s, sys: 0 ns, total: 24.2 s\n",
            "Wall time: 24.2 s\n"
          ],
          "name": "stdout"
        },
        {
          "output_type": "stream",
          "text": [
            "/usr/local/lib/python3.6/dist-packages/sklearn/model_selection/_search.py:841: DeprecationWarning: The default of the `iid` parameter will change from True to False in version 0.22 and will be removed in 0.24. This will change numeric results when test-set sizes are unequal.\n",
            "  DeprecationWarning)\n"
          ],
          "name": "stderr"
        },
        {
          "output_type": "execute_result",
          "data": {
            "text/plain": [
              "GridSearchCV(cv=10, error_score='raise-deprecating',\n",
              "       estimator=DecisionTreeClassifier(class_weight=None, criterion='gini', max_depth=None,\n",
              "            max_features=None, max_leaf_nodes=None,\n",
              "            min_impurity_decrease=0.0, min_impurity_split=None,\n",
              "            min_samples_leaf=1, min_samples_split=2,\n",
              "            min_weight_fraction_leaf=0.0, presort=False, random_state=None,\n",
              "            splitter='best'),\n",
              "       fit_params=None, iid='warn', n_jobs=None,\n",
              "       param_grid={'criterion': ['gini', 'entropy'], 'min_samples_split': [2, 10, 20], 'max_depth': [None, 2, 5, 10], 'min_samples_leaf': [1, 5, 10], 'max_leaf_nodes': [None, 5, 10, 20]},\n",
              "       pre_dispatch='2*n_jobs', refit=True, return_train_score='warn',\n",
              "       scoring=None, verbose=0)"
            ]
          },
          "metadata": {
            "tags": []
          },
          "execution_count": 45
        }
      ]
    },
    {
      "metadata": {
        "id": "52kAckPYJ91x",
        "colab_type": "code",
        "colab": {}
      },
      "cell_type": "code",
      "source": [
        "y1_pred_ = clf.predict(X_train)"
      ],
      "execution_count": 0,
      "outputs": []
    },
    {
      "metadata": {
        "id": "GEMazBfvJ_F2",
        "colab_type": "code",
        "colab": {
          "base_uri": "https://localhost:8080/",
          "height": 72
        },
        "outputId": "51926e76-ce06-4fed-8bbe-4a0191f2037d"
      },
      "cell_type": "code",
      "source": [
        "print(accuracy_score(y_train,y1_pred_))\n",
        "print(\"\\n\")"
      ],
      "execution_count": 47,
      "outputs": [
        {
          "output_type": "stream",
          "text": [
            "0.8267326732673267\n",
            "\n",
            "\n"
          ],
          "name": "stdout"
        }
      ]
    },
    {
      "metadata": {
        "id": "EGKWBtqkKC6c",
        "colab_type": "code",
        "colab": {
          "base_uri": "https://localhost:8080/",
          "height": 35
        },
        "outputId": "db073b95-9a00-40b1-85a5-30a450b7ca94"
      },
      "cell_type": "code",
      "source": [
        "y_pred_ = clf.predict(X_eval)\n",
        "print(accuracy_score(y_eval,y_pred_))"
      ],
      "execution_count": 48,
      "outputs": [
        {
          "output_type": "stream",
          "text": [
            "0.8235294117647058\n"
          ],
          "name": "stdout"
        }
      ]
    },
    {
      "metadata": {
        "id": "WY6Pp2x0KFyW",
        "colab_type": "code",
        "colab": {
          "base_uri": "https://localhost:8080/",
          "height": 35
        },
        "outputId": "f3b2a413-b50f-48cc-86a3-1a9ba8a34eb0"
      },
      "cell_type": "code",
      "source": [
        "y_pred_test=clf.predict(test_data) \n",
        "print(len(y_pred_test))"
      ],
      "execution_count": 49,
      "outputs": [
        {
          "output_type": "stream",
          "text": [
            "223\n"
          ],
          "name": "stdout"
        }
      ]
    },
    {
      "metadata": {
        "id": "C_ZXFzNxK0iQ",
        "colab_type": "code",
        "colab": {
          "base_uri": "https://localhost:8080/",
          "height": 35
        },
        "outputId": "104709b0-f721-48b5-b528-213d580a23c2"
      },
      "cell_type": "code",
      "source": [
        "# training a linear SVM classifier \n",
        "from sklearn.svm import SVC \n",
        "svm_model_linear = SVC(kernel = 'linear', C = 1).fit(X_train, y_train)\n",
        "svm_predictions = svm_model_linear.predict(X_eval)\n",
        "\n",
        "accuracy = svm_model_linear.score(X_eval, y_eval)\n",
        "print(accuracy)"
      ],
      "execution_count": 50,
      "outputs": [
        {
          "output_type": "stream",
          "text": [
            "0.6470588235294118\n"
          ],
          "name": "stdout"
        }
      ]
    }
  ]
}