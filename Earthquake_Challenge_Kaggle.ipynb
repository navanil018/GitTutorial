{
  "nbformat": 4,
  "nbformat_minor": 0,
  "metadata": {
    "colab": {
      "name": "Earthquake Challenge Kaggle.ipynb",
      "version": "0.3.2",
      "provenance": [],
      "include_colab_link": true
    },
    "kernelspec": {
      "name": "python3",
      "display_name": "Python 3"
    }
  },
  "cells": [
    {
      "cell_type": "markdown",
      "metadata": {
        "id": "view-in-github",
        "colab_type": "text"
      },
      "source": [
        "<a href=\"https://colab.research.google.com/github/navanil018/Kaggle/blob/master/Earthquake_Challenge_Kaggle.ipynb\" target=\"_parent\"><img src=\"https://colab.research.google.com/assets/colab-badge.svg\" alt=\"Open In Colab\"/></a>"
      ]
    },
    {
      "metadata": {
        "id": "YmDFTHd75DSn",
        "colab_type": "text"
      },
      "cell_type": "markdown",
      "source": [
        "\n",
        "\n",
        "# Install & Import Dependencies\n",
        "\n",
        "\n"
      ]
    },
    {
      "metadata": {
        "id": "T1Sbquv83V66",
        "colab_type": "code",
        "colab": {}
      },
      "cell_type": "code",
      "source": [
        "#To access Kaggle datasets\n",
        "!pip install kaggle\n",
        "\n",
        "#Math operations\n",
        "!pip install numpy\n",
        "\n",
        "#Machine Learning\n",
        "!pip install catboost"
      ],
      "execution_count": 0,
      "outputs": []
    },
    {
      "metadata": {
        "id": "M_WKwT_Z39JG",
        "colab_type": "code",
        "colab": {}
      },
      "cell_type": "code",
      "source": [
        "#data preprocessing\n",
        "import pandas as pd\n",
        "\n",
        "#math operations\n",
        "import numpy as np\n",
        "\n",
        "#machine learning\n",
        "from catboost import CatBoostRegressor, Pool\n",
        "\n",
        "#Data Scaling\n",
        "from sklearn.preprocessing import StandardScaler\n",
        "\n",
        "#Hyperparameter optimization\n",
        "from sklearn.model_selection import GridSearchCV\n",
        "\n",
        "#Support vector machine model\n",
        "from sklearn.svm import SVR, NuSVR\n",
        "\n",
        "#kernel ridge model\n",
        "from sklearn.kernel_ridge import KernelRidge\n",
        "\n",
        "#data viz\n",
        "import matplotlib.pyplot as plt"
      ],
      "execution_count": 0,
      "outputs": []
    },
    {
      "metadata": {
        "id": "Z1N-zxCV413y",
        "colab_type": "text"
      },
      "cell_type": "markdown",
      "source": [
        "# **Import DataSet from Kaggle**"
      ]
    },
    {
      "metadata": {
        "id": "pCb_NBJu9qWy",
        "colab_type": "code",
        "colab": {
          "base_uri": "https://localhost:8080/",
          "height": 35
        },
        "outputId": "c89857b7-a9bf-4de4-c826-087f771ac17f"
      },
      "cell_type": "code",
      "source": [
        "#!mkdir .kaggle\n",
        "%cd .kaggle"
      ],
      "execution_count": 38,
      "outputs": [
        {
          "output_type": "stream",
          "text": [
            "/content/.kaggle\n"
          ],
          "name": "stdout"
        }
      ]
    },
    {
      "metadata": {
        "id": "gI8tQW-Z-kOy",
        "colab_type": "code",
        "colab": {}
      },
      "cell_type": "code",
      "source": [
        "#kaggle.json into the folder where the API expects to find it\n",
        "import json\n",
        "token = {\"username\":\"navanil\",\"key\":\"8b871f2214006e81c5b396aff28acb44\"}\n",
        "with open('/content/.kaggle/kaggle.json', 'w') as file:\n",
        "    json.dump(token, file)"
      ],
      "execution_count": 0,
      "outputs": []
    },
    {
      "metadata": {
        "id": "h5bTReaZ-6di",
        "colab_type": "code",
        "colab": {}
      },
      "cell_type": "code",
      "source": [
        "!chmod 600 /root/.kaggle/kaggle.json"
      ],
      "execution_count": 0,
      "outputs": []
    },
    {
      "metadata": {
        "id": "XXDNQq4d4zDK",
        "colab_type": "code",
        "colab": {
          "base_uri": "https://localhost:8080/",
          "height": 417
        },
        "outputId": "cb954e46-500a-45bf-8c22-991325b6bc29"
      },
      "cell_type": "code",
      "source": [
        "#Colab's file access feature\n",
        "from google.colab import files \n",
        "\n",
        "!kaggle competitions list"
      ],
      "execution_count": 50,
      "outputs": [
        {
          "output_type": "stream",
          "text": [
            "ref                                            deadline             category            reward  teamCount  userHasEntered  \n",
            "---------------------------------------------  -------------------  ---------------  ---------  ---------  --------------  \n",
            "digit-recognizer                               2030-01-01 00:00:00  Getting Started  Knowledge       2462           False  \n",
            "titanic                                        2030-01-01 00:00:00  Getting Started  Knowledge       9999            True  \n",
            "house-prices-advanced-regression-techniques    2030-01-01 00:00:00  Getting Started  Knowledge       4071           False  \n",
            "imagenet-object-localization-challenge         2029-12-31 07:00:00  Research         Knowledge         35           False  \n",
            "competitive-data-science-predict-future-sales  2019-12-31 23:59:00  Playground           Kudos       2447           False  \n",
            "two-sigma-financial-news                       2019-07-15 23:59:00  Featured          $100,000       2927           False  \n",
            "LANL-Earthquake-Prediction                     2019-06-03 23:59:00  Research           $50,000       1457           False  \n",
            "tmdb-box-office-prediction                     2019-05-30 23:59:00  Playground       Knowledge        307           False  \n",
            "dont-overfit-ii                                2019-05-07 23:59:00  Playground            Swag        870            True  \n",
            "data-science-for-good-careervillage            2019-04-23 23:59:00  Analytics          $15,000          0           False  \n",
            "gendered-pronoun-resolution                    2019-04-22 23:59:00  Research           $25,000        293           False  \n",
            "santander-customer-transaction-prediction      2019-04-10 23:59:00  Featured           $65,000       3510            True  \n",
            "womens-machine-learning-competition-2019       2019-04-09 23:59:00  Featured           $25,000        135           False  \n",
            "mens-machine-learning-competition-2019         2019-04-08 23:59:00  Featured           $25,000        229           False  \n",
            "histopathologic-cancer-detection               2019-03-30 23:59:00  Playground       Knowledge        785           False  \n",
            "petfinder-adoption-prediction                  2019-03-28 23:59:00  Featured           $25,000       1437           False  \n",
            "vsb-power-line-fault-detection                 2019-03-21 23:59:00  Featured           $25,000       1146           False  \n",
            "microsoft-malware-prediction                   2019-03-13 23:59:00  Research           $25,000       2121           False  \n",
            "humpback-whale-identification                  2019-02-28 23:59:00  Featured           $25,000       2131           False  \n",
            "elo-merchant-category-recommendation           2019-02-26 23:59:00  Featured           $50,000       4128           False  \n"
          ],
          "name": "stdout"
        }
      ]
    },
    {
      "metadata": {
        "id": "uNo-8z4p_7dZ",
        "colab_type": "code",
        "colab": {
          "base_uri": "https://localhost:8080/",
          "height": 72
        },
        "outputId": "ad46907e-2e7b-4b37-c135-f8a8adf221e3"
      },
      "cell_type": "code",
      "source": [
        "#%pwd\n",
        "#download Earthquake data\n",
        "#!kaggle competitions download -c LANL-Earthquake-Prediction\n",
        "#!mkdir ~/.kaggle\n",
        "#!cp /content/.kaggle/kaggle.json ~/.kaggle/kaggle.json\n",
        "%cd ~/.kaggle/\n",
        "!ls -a\n",
        "\n",
        "%pwd\n",
        "\n",
        "!kaggle config set -n path -v{/content}"
      ],
      "execution_count": 53,
      "outputs": [
        {
          "output_type": "stream",
          "text": [
            "/root/.kaggle\n",
            ".  ..  kaggle.json\n",
            "- path is now set to: {/content}\n"
          ],
          "name": "stdout"
        }
      ]
    },
    {
      "metadata": {
        "id": "yuuDbIe_Cgg_",
        "colab_type": "code",
        "colab": {
          "base_uri": "https://localhost:8080/",
          "height": 181
        },
        "outputId": "f94e8773-e37e-43d2-d9ca-389dc70fd6c9"
      },
      "cell_type": "code",
      "source": [
        "#download Earthquake data\n",
        "!kaggle competitions download -c LANL-Earthquake-Prediction -p /content"
      ],
      "execution_count": 59,
      "outputs": [
        {
          "output_type": "stream",
          "text": [
            "Downloading sample_submission.csv to /content\n",
            "\r  0% 0.00/33.3k [00:00<?, ?B/s]\n",
            "100% 33.3k/33.3k [00:00<00:00, 40.3MB/s]\n",
            "Downloading test.zip to /content\n",
            " 98% 237M/242M [00:01<00:00, 164MB/s]\n",
            "100% 242M/242M [00:01<00:00, 159MB/s]\n",
            "Downloading train.csv.zip to /content\n",
            "100% 2.02G/2.03G [00:36<00:00, 33.9MB/s]\n",
            "100% 2.03G/2.03G [00:37<00:00, 58.5MB/s]\n"
          ],
          "name": "stdout"
        }
      ]
    },
    {
      "metadata": {
        "id": "FSjQpYG3EMiw",
        "colab_type": "code",
        "colab": {}
      },
      "cell_type": "code",
      "source": [
        "#!unzip test.csv.zip\n"
      ],
      "execution_count": 0,
      "outputs": []
    },
    {
      "metadata": {
        "id": "HFL9i-UsH4sL",
        "colab_type": "text"
      },
      "cell_type": "markdown",
      "source": [
        "# Exploratory Data Analysis\n"
      ]
    },
    {
      "metadata": {
        "id": "E9LMCbBhIGYg",
        "colab_type": "code",
        "colab": {}
      },
      "cell_type": "code",
      "source": [
        "#Extract training data to dataframe\n",
        "train = pd.read_csv('train.csv', nrows=6000000, dtype={'acoustic_data': np.int16, 'time_to_failure': np.float64})"
      ],
      "execution_count": 0,
      "outputs": []
    },
    {
      "metadata": {
        "id": "JGyu2LqDJGZg",
        "colab_type": "code",
        "colab": {
          "base_uri": "https://localhost:8080/",
          "height": 348
        },
        "outputId": "4d5e3c67-8b91-4e4a-d8a4-6d9ec29b6953"
      },
      "cell_type": "code",
      "source": [
        "#print first 10 entries\n",
        "train.head(10)"
      ],
      "execution_count": 76,
      "outputs": [
        {
          "output_type": "execute_result",
          "data": {
            "text/html": [
              "<div>\n",
              "<style scoped>\n",
              "    .dataframe tbody tr th:only-of-type {\n",
              "        vertical-align: middle;\n",
              "    }\n",
              "\n",
              "    .dataframe tbody tr th {\n",
              "        vertical-align: top;\n",
              "    }\n",
              "\n",
              "    .dataframe thead th {\n",
              "        text-align: right;\n",
              "    }\n",
              "</style>\n",
              "<table border=\"1\" class=\"dataframe\">\n",
              "  <thead>\n",
              "    <tr style=\"text-align: right;\">\n",
              "      <th></th>\n",
              "      <th>acoustic_data</th>\n",
              "      <th>time_to_failure</th>\n",
              "    </tr>\n",
              "  </thead>\n",
              "  <tbody>\n",
              "    <tr>\n",
              "      <th>0</th>\n",
              "      <td>12</td>\n",
              "      <td>1.4691</td>\n",
              "    </tr>\n",
              "    <tr>\n",
              "      <th>1</th>\n",
              "      <td>6</td>\n",
              "      <td>1.4691</td>\n",
              "    </tr>\n",
              "    <tr>\n",
              "      <th>2</th>\n",
              "      <td>8</td>\n",
              "      <td>1.4691</td>\n",
              "    </tr>\n",
              "    <tr>\n",
              "      <th>3</th>\n",
              "      <td>5</td>\n",
              "      <td>1.4691</td>\n",
              "    </tr>\n",
              "    <tr>\n",
              "      <th>4</th>\n",
              "      <td>8</td>\n",
              "      <td>1.4691</td>\n",
              "    </tr>\n",
              "    <tr>\n",
              "      <th>5</th>\n",
              "      <td>8</td>\n",
              "      <td>1.4691</td>\n",
              "    </tr>\n",
              "    <tr>\n",
              "      <th>6</th>\n",
              "      <td>9</td>\n",
              "      <td>1.4691</td>\n",
              "    </tr>\n",
              "    <tr>\n",
              "      <th>7</th>\n",
              "      <td>7</td>\n",
              "      <td>1.4691</td>\n",
              "    </tr>\n",
              "    <tr>\n",
              "      <th>8</th>\n",
              "      <td>-5</td>\n",
              "      <td>1.4691</td>\n",
              "    </tr>\n",
              "    <tr>\n",
              "      <th>9</th>\n",
              "      <td>3</td>\n",
              "      <td>1.4691</td>\n",
              "    </tr>\n",
              "  </tbody>\n",
              "</table>\n",
              "</div>"
            ],
            "text/plain": [
              "   acoustic_data  time_to_failure\n",
              "0             12           1.4691\n",
              "1              6           1.4691\n",
              "2              8           1.4691\n",
              "3              5           1.4691\n",
              "4              8           1.4691\n",
              "5              8           1.4691\n",
              "6              9           1.4691\n",
              "7              7           1.4691\n",
              "8             -5           1.4691\n",
              "9              3           1.4691"
            ]
          },
          "metadata": {
            "tags": []
          },
          "execution_count": 76
        }
      ]
    },
    {
      "metadata": {
        "id": "m2vUggZXJW0E",
        "colab_type": "code",
        "colab": {}
      },
      "cell_type": "code",
      "source": [
        ""
      ],
      "execution_count": 0,
      "outputs": []
    },
    {
      "metadata": {
        "id": "ECoHy028JscO",
        "colab_type": "text"
      },
      "cell_type": "markdown",
      "source": [
        "# Feature Engineering"
      ]
    },
    {
      "metadata": {
        "id": "3A7x9rdVJ3Ww",
        "colab_type": "code",
        "colab": {}
      },
      "cell_type": "code",
      "source": [
        "# Step 4 - Feature Engineering and signifiance of these statistical features\n",
        "\n",
        "#lets create a function to generate some statistical features based on the training data\n",
        "def gen_features(X):\n",
        "    strain = []\n",
        "    strain.append(X.mean())\n",
        "    strain.append(X.std())\n",
        "    strain.append(X.min())\n",
        "    strain.append(X.max())\n",
        "    strain.append(X.kurtosis())\n",
        "    strain.append(X.skew())\n",
        "    strain.append(np.abs(X).max())\n",
        "    strain.append(np.abs(X).mean())\n",
        "    strain.append(np.abs(X).std())\n",
        "    return pd.Series(strain)"
      ],
      "execution_count": 0,
      "outputs": []
    },
    {
      "metadata": {
        "id": "BFFdLpRvLniv",
        "colab_type": "code",
        "colab": {}
      },
      "cell_type": "code",
      "source": [
        "train = pd.read_csv('train.csv', iterator=True, chunksize=150_000, dtype={'acoustic_data': np.int16, 'time_to_failure': np.float64})\n",
        "\n",
        "X_train = pd.DataFrame()\n",
        "y_train = pd.Series()\n",
        "for df in train:\n",
        "  ch = gen_features(df['acoustic_data'])\n",
        "  X_train = X_train.append(ch, ignore_index=True)\n",
        "  y_train = y_train.append(pd.Series(df['time_to_failure'].values[-1]))"
      ],
      "execution_count": 0,
      "outputs": []
    },
    {
      "metadata": {
        "id": "4p5dLqDUPsMb",
        "colab_type": "code",
        "colab": {
          "base_uri": "https://localhost:8080/",
          "height": 288
        },
        "outputId": "2b3e9fab-e765-410c-fa93-65260ace68de"
      },
      "cell_type": "code",
      "source": [
        "X_train.describe()"
      ],
      "execution_count": 95,
      "outputs": [
        {
          "output_type": "execute_result",
          "data": {
            "text/html": [
              "<div>\n",
              "<style scoped>\n",
              "    .dataframe tbody tr th:only-of-type {\n",
              "        vertical-align: middle;\n",
              "    }\n",
              "\n",
              "    .dataframe tbody tr th {\n",
              "        vertical-align: top;\n",
              "    }\n",
              "\n",
              "    .dataframe thead th {\n",
              "        text-align: right;\n",
              "    }\n",
              "</style>\n",
              "<table border=\"1\" class=\"dataframe\">\n",
              "  <thead>\n",
              "    <tr style=\"text-align: right;\">\n",
              "      <th></th>\n",
              "      <th>0</th>\n",
              "      <th>1</th>\n",
              "      <th>2</th>\n",
              "      <th>3</th>\n",
              "      <th>4</th>\n",
              "      <th>5</th>\n",
              "      <th>6</th>\n",
              "      <th>7</th>\n",
              "      <th>8</th>\n",
              "    </tr>\n",
              "  </thead>\n",
              "  <tbody>\n",
              "    <tr>\n",
              "      <th>count</th>\n",
              "      <td>4195.000000</td>\n",
              "      <td>4195.000000</td>\n",
              "      <td>4195.000000</td>\n",
              "      <td>4195.000000</td>\n",
              "      <td>4195.000000</td>\n",
              "      <td>4195.000000</td>\n",
              "      <td>4195.000000</td>\n",
              "      <td>4195.000000</td>\n",
              "      <td>4195.000000</td>\n",
              "    </tr>\n",
              "    <tr>\n",
              "      <th>mean</th>\n",
              "      <td>4.519475</td>\n",
              "      <td>6.547788</td>\n",
              "      <td>-149.190942</td>\n",
              "      <td>163.522288</td>\n",
              "      <td>68.297997</td>\n",
              "      <td>0.125830</td>\n",
              "      <td>170.046246</td>\n",
              "      <td>5.547367</td>\n",
              "      <td>5.750165</td>\n",
              "    </tr>\n",
              "    <tr>\n",
              "      <th>std</th>\n",
              "      <td>0.256049</td>\n",
              "      <td>8.503939</td>\n",
              "      <td>265.087984</td>\n",
              "      <td>272.930331</td>\n",
              "      <td>70.532565</td>\n",
              "      <td>0.477901</td>\n",
              "      <td>296.887015</td>\n",
              "      <td>1.517038</td>\n",
              "      <td>8.339211</td>\n",
              "    </tr>\n",
              "    <tr>\n",
              "      <th>min</th>\n",
              "      <td>3.596313</td>\n",
              "      <td>2.802720</td>\n",
              "      <td>-5515.000000</td>\n",
              "      <td>23.000000</td>\n",
              "      <td>0.648602</td>\n",
              "      <td>-4.091826</td>\n",
              "      <td>23.000000</td>\n",
              "      <td>4.147707</td>\n",
              "      <td>2.589085</td>\n",
              "    </tr>\n",
              "    <tr>\n",
              "      <th>25%</th>\n",
              "      <td>4.349497</td>\n",
              "      <td>4.478637</td>\n",
              "      <td>-154.000000</td>\n",
              "      <td>92.000000</td>\n",
              "      <td>28.090227</td>\n",
              "      <td>-0.040779</td>\n",
              "      <td>94.000000</td>\n",
              "      <td>5.061843</td>\n",
              "      <td>3.862810</td>\n",
              "    </tr>\n",
              "    <tr>\n",
              "      <th>50%</th>\n",
              "      <td>4.522147</td>\n",
              "      <td>5.618798</td>\n",
              "      <td>-111.000000</td>\n",
              "      <td>123.000000</td>\n",
              "      <td>45.816625</td>\n",
              "      <td>0.085620</td>\n",
              "      <td>127.000000</td>\n",
              "      <td>5.380853</td>\n",
              "      <td>4.781513</td>\n",
              "    </tr>\n",
              "    <tr>\n",
              "      <th>75%</th>\n",
              "      <td>4.693350</td>\n",
              "      <td>6.880904</td>\n",
              "      <td>-79.000000</td>\n",
              "      <td>170.000000</td>\n",
              "      <td>78.664202</td>\n",
              "      <td>0.253930</td>\n",
              "      <td>175.000000</td>\n",
              "      <td>5.748553</td>\n",
              "      <td>5.887947</td>\n",
              "    </tr>\n",
              "    <tr>\n",
              "      <th>max</th>\n",
              "      <td>5.391993</td>\n",
              "      <td>153.703569</td>\n",
              "      <td>-15.000000</td>\n",
              "      <td>5444.000000</td>\n",
              "      <td>631.158927</td>\n",
              "      <td>4.219429</td>\n",
              "      <td>5515.000000</td>\n",
              "      <td>32.762073</td>\n",
              "      <td>150.432368</td>\n",
              "    </tr>\n",
              "  </tbody>\n",
              "</table>\n",
              "</div>"
            ],
            "text/plain": [
              "                 0            1            2            3            4  \\\n",
              "count  4195.000000  4195.000000  4195.000000  4195.000000  4195.000000   \n",
              "mean      4.519475     6.547788  -149.190942   163.522288    68.297997   \n",
              "std       0.256049     8.503939   265.087984   272.930331    70.532565   \n",
              "min       3.596313     2.802720 -5515.000000    23.000000     0.648602   \n",
              "25%       4.349497     4.478637  -154.000000    92.000000    28.090227   \n",
              "50%       4.522147     5.618798  -111.000000   123.000000    45.816625   \n",
              "75%       4.693350     6.880904   -79.000000   170.000000    78.664202   \n",
              "max       5.391993   153.703569   -15.000000  5444.000000   631.158927   \n",
              "\n",
              "                 5            6            7            8  \n",
              "count  4195.000000  4195.000000  4195.000000  4195.000000  \n",
              "mean      0.125830   170.046246     5.547367     5.750165  \n",
              "std       0.477901   296.887015     1.517038     8.339211  \n",
              "min      -4.091826    23.000000     4.147707     2.589085  \n",
              "25%      -0.040779    94.000000     5.061843     3.862810  \n",
              "50%       0.085620   127.000000     5.380853     4.781513  \n",
              "75%       0.253930   175.000000     5.748553     5.887947  \n",
              "max       4.219429  5515.000000    32.762073   150.432368  "
            ]
          },
          "metadata": {
            "tags": []
          },
          "execution_count": 95
        }
      ]
    },
    {
      "metadata": {
        "id": "3iBcDi8kQRxN",
        "colab_type": "code",
        "colab": {
          "base_uri": "https://localhost:8080/",
          "height": 35
        },
        "outputId": "dd28c3cc-9f09-42c2-e58d-3ae2e5928ae4"
      },
      "cell_type": "code",
      "source": [
        "#Model #1 - Catboost\n",
        "\n",
        "train_pool = Pool(X_train, y_train)\n",
        "m = CatBoostRegressor(iterations=10000, loss_function='MAE', boosting_type='Ordered')\n",
        "m.fit(X_train, y_train, silent=True)\n",
        "m.best_score_"
      ],
      "execution_count": 96,
      "outputs": [
        {
          "output_type": "execute_result",
          "data": {
            "text/plain": [
              "{'learn': {'MAE': 1.7976107174233478}}"
            ]
          },
          "metadata": {
            "tags": []
          },
          "execution_count": 96
        }
      ]
    },
    {
      "metadata": {
        "id": "9wodBomHRTRx",
        "colab_type": "code",
        "colab": {
          "base_uri": "https://localhost:8080/",
          "height": 54
        },
        "outputId": "da2ffabb-c464-43ab-e0b4-47f398ea6825"
      },
      "cell_type": "code",
      "source": [
        "#Model #2 - Support Vector Machine w/ RBF + Grid Search\n",
        "\n",
        "from sklearn.preprocessing import StandardScaler\n",
        "from sklearn.model_selection import GridSearchCV\n",
        "from sklearn.svm import NuSVR, SVR\n",
        "\n",
        "\n",
        "scaler = StandardScaler()\n",
        "scaler.fit(X_train)\n",
        "X_train_scaled = scaler.transform(X_train)\n",
        "\n",
        "parameters = [{'gamma': [0.001, 0.005, 0.01, 0.02, 0.05, 0.1],\n",
        "               'C': [0.1, 0.2, 0.25, 0.5, 1, 1.5, 2]}]\n",
        "               #'nu': [0.75, 0.8, 0.85, 0.9, 0.95, 0.97]}]\n",
        "\n",
        "reg1 = GridSearchCV(SVR(kernel='rbf', tol=0.01), parameters, cv=5, scoring='neg_mean_absolute_error')\n",
        "reg1.fit(X_train_scaled, y_train.values.flatten())\n",
        "y_pred1 = reg1.predict(X_train_scaled)\n",
        "\n",
        "print(\"Best CV score: {:.4f}\".format(reg1.best_score_))\n",
        "print(reg1.best_params_)"
      ],
      "execution_count": 97,
      "outputs": [
        {
          "output_type": "stream",
          "text": [
            "Best CV score: -2.2583\n",
            "{'C': 2, 'gamma': 0.1}\n"
          ],
          "name": "stdout"
        }
      ]
    }
  ]
}